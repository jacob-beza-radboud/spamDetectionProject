{
 "cells": [
  {
   "cell_type": "code",
   "execution_count": 2,
   "metadata": {
    "collapsed": true,
    "pycharm": {
     "name": "#%%\n"
    }
   },
   "outputs": [
    {
     "name": "stdout",
     "output_type": "stream",
     "text": [
      "0.9935414424111948\n"
     ]
    }
   ],
   "source": [
    "import numpy as np\n",
    "from toolbox.load_assets import load_sms_spam\n",
    "from toolbox.prepare_data import prepare\n",
    "from toolbox.conversion import conversion\n",
    "from toolbox.reshape import reshape\n",
    "from sklearn.neural_network import MLPClassifier\n",
    "\n",
    "file = \"./data/spam.csv\"\n",
    "X = \"./data/train.csv\"\n",
    "spam_dic = load_sms_spam(file)\n",
    "temp = []\n",
    "\n",
    "data = prepare(X,'sms','label')\n",
    "msg = data[0]\n",
    "labels = data[1]\n",
    "\n",
    "\n",
    "converted_data = conversion(spam_dic, msg)\n",
    "reshape(converted_data)\n",
    "\n",
    "mlp = MLPClassifier(solver='adam',hidden_layer_sizes=15,max_iter=3000)\n",
    "mlp.fit(converted_data,labels)\n",
    "\n",
    "print(mlp.score(converted_data, labels))\n",
    "\n"
   ]
  },
  {
   "cell_type": "raw",
   "source": [],
   "metadata": {
    "collapsed": false,
    "pycharm": {
     "name": "#%% raw\n"
    }
   }
  },
  {
   "cell_type": "code",
   "execution_count": 1,
   "outputs": [],
   "source": [],
   "metadata": {
    "collapsed": false,
    "pycharm": {
     "name": "#%%\n"
    }
   }
  }
 ],
 "metadata": {
  "kernelspec": {
   "display_name": "Python 3",
   "language": "python",
   "name": "python3"
  },
  "language_info": {
   "codemirror_mode": {
    "name": "ipython",
    "version": 2
   },
   "file_extension": ".py",
   "mimetype": "text/x-python",
   "name": "python",
   "nbconvert_exporter": "python",
   "pygments_lexer": "ipython2",
   "version": "2.7.6"
  }
 },
 "nbformat": 4,
 "nbformat_minor": 0
}